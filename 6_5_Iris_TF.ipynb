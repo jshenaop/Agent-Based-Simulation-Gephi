{
  "nbformat": 4,
  "nbformat_minor": 0,
  "metadata": {
    "colab": {
      "name": "6.5 Iris TF.ipynb",
      "provenance": [],
      "authorship_tag": "ABX9TyPExJcpDblCK3MKopsP4Alw",
      "include_colab_link": true
    },
    "kernelspec": {
      "name": "python3",
      "display_name": "Python 3"
    },
    "language_info": {
      "name": "python"
    }
  },
  "cells": [
    {
      "cell_type": "markdown",
      "metadata": {
        "id": "view-in-github",
        "colab_type": "text"
      },
      "source": [
        "<a href=\"https://colab.research.google.com/github/jshenaop/Agent-Based-Simulation-Gephi/blob/master/6_5_Iris_TF.ipynb\" target=\"_parent\"><img src=\"https://colab.research.google.com/assets/colab-badge.svg\" alt=\"Open In Colab\"/></a>"
      ]
    },
    {
      "cell_type": "code",
      "metadata": {
        "id": "9IU0-f8DFOys"
      },
      "source": [
        "import matplotlib.pyplot as plt\n",
        "import numpy as np\n",
        "import tensorflow as tf\n",
        "from sklearn import datasets"
      ],
      "execution_count": null,
      "outputs": []
    },
    {
      "cell_type": "code",
      "metadata": {
        "id": "zdkyY9OzFfLy"
      },
      "source": [
        "iris = datasets.load_iris()\n",
        "# Get Sepal length, Sepal width, Petal length\n",
        "x_vals = np.array([x[0:3] for x in iris.data])\n",
        "# Get Petal Width\n",
        "y_vals = np.array([x[3] for x in iris.data])"
      ],
      "execution_count": null,
      "outputs": []
    },
    {
      "cell_type": "code",
      "metadata": {
        "id": "MOSf6oQeFhQ7"
      },
      "source": [
        "# make results reproducible\n",
        "seed = 3\n",
        "np.random.seed(seed)  \n",
        "tf.random.set_seed(seed)"
      ],
      "execution_count": null,
      "outputs": []
    },
    {
      "cell_type": "code",
      "metadata": {
        "id": "gOMnD7kiFk1W"
      },
      "source": [
        "# Split data into train/test = 80%/20%\n",
        "train_indices = np.random.choice(len(x_vals), round(len(x_vals)*0.8), replace=False)\n",
        "test_indices = np.array(list(set(range(len(x_vals))) - set(train_indices)))\n",
        "x_vals_train = x_vals[train_indices]\n",
        "x_vals_test = x_vals[test_indices]\n",
        "y_vals_train = y_vals[train_indices]\n",
        "y_vals_test = y_vals[test_indices]"
      ],
      "execution_count": null,
      "outputs": []
    },
    {
      "cell_type": "code",
      "metadata": {
        "id": "c59zQsb4FnMq"
      },
      "source": [
        "# Normalize by column (min-max norm)\n",
        "def normalize_cols(m):\n",
        "    col_max = m.max(axis=0)\n",
        "    col_min = m.min(axis=0)\n",
        "    return (m-col_min) / (col_max - col_min)\n",
        "    \n",
        "x_vals_train = np.nan_to_num(normalize_cols(x_vals_train))\n",
        "x_vals_test = np.nan_to_num(normalize_cols(x_vals_test))"
      ],
      "execution_count": null,
      "outputs": []
    },
    {
      "cell_type": "code",
      "metadata": {
        "id": "mSmWkADEFqun"
      },
      "source": [
        "# Declare batch size\n",
        "batch_size = 50\n",
        "\n",
        "# Initialize input data\n",
        "x_data = tf.keras.Input(dtype=tf.float32, shape=(3,))"
      ],
      "execution_count": null,
      "outputs": []
    },
    {
      "cell_type": "code",
      "metadata": {
        "colab": {
          "base_uri": "https://localhost:8080/"
        },
        "id": "QvTlxJj1F_LX",
        "outputId": "4005597a-ac51-4396-b98d-fc637ab0623c"
      },
      "source": [
        "# Create variables for both NN layers\n",
        "hidden_layer_nodes = 5\n",
        "a1 = tf.Variable(tf.random.normal(shape=[3,hidden_layer_nodes], seed=seed)) # inputs -> hidden nodes\n",
        "b1 = tf.Variable(tf.random.normal(shape=[hidden_layer_nodes], seed=seed))   # one biases for each hidden node\n",
        "a2 = tf.Variable(tf.random.normal(shape=[hidden_layer_nodes,1], seed=seed)) # hidden inputs -> 1 output\n",
        "b2 = tf.Variable(tf.random.normal(shape=[1], seed=seed))   # 1 bias for the output\n",
        "\n",
        "\n",
        "# Declare model operations\n",
        "hidden_output = tf.keras.layers.Lambda(lambda x: tf.nn.relu(tf.add(tf.matmul(x, a1), b1)))\n",
        "final_output = tf.keras.layers.Lambda(lambda x: tf.nn.relu(tf.add(tf.matmul(x, a2), b2)))\n",
        "\n",
        "hidden_layer = hidden_output(x_data)\n",
        "output = final_output(hidden_layer)\n",
        "\n",
        "# Build the model\n",
        "model = tf.keras.Model(inputs=x_data, outputs=output, name=\"1layer_neural_network\")\n",
        "\n",
        "# Declare optimizer\n",
        "optimizer = tf.keras.optimizers.SGD(0.005)"
      ],
      "execution_count": null,
      "outputs": [
        {
          "output_type": "stream",
          "text": [
            "WARNING:tensorflow:\n",
            "The following Variables were used a Lambda layer's call (lambda), but\n",
            "are not present in its tracked objects:\n",
            "  <tf.Variable 'Variable:0' shape=(3, 5) dtype=float32>\n",
            "  <tf.Variable 'Variable:0' shape=(5,) dtype=float32>\n",
            "It is possible that this is intended behavior, but it is more likely\n",
            "an omission. This is a strong indication that this layer should be\n",
            "formulated as a subclassed Layer rather than a Lambda layer.\n",
            "WARNING:tensorflow:\n",
            "The following Variables were used a Lambda layer's call (lambda_1), but\n",
            "are not present in its tracked objects:\n",
            "  <tf.Variable 'Variable:0' shape=(5, 1) dtype=float32>\n",
            "  <tf.Variable 'Variable:0' shape=(1,) dtype=float32>\n",
            "It is possible that this is intended behavior, but it is more likely\n",
            "an omission. This is a strong indication that this layer should be\n",
            "formulated as a subclassed Layer rather than a Lambda layer.\n"
          ],
          "name": "stdout"
        }
      ]
    },
    {
      "cell_type": "markdown",
      "metadata": {
        "id": "QXpWRNFIyob8"
      },
      "source": [
        "# STOP: #\n",
        "\n",
        "Gradiente Tape o Cinta de Degradado"
      ]
    },
    {
      "cell_type": "code",
      "metadata": {
        "id": "LKDU23qayzNB"
      },
      "source": [
        "x = tf.Variable(3.0)\n",
        "\n",
        "with tf.GradientTape() as tape:\n",
        "  y = x**2"
      ],
      "execution_count": null,
      "outputs": []
    },
    {
      "cell_type": "code",
      "metadata": {
        "colab": {
          "base_uri": "https://localhost:8080/"
        },
        "id": "WGMjlmdEy6n5",
        "outputId": "8540164f-6e10-45d0-edd2-40417abb75e0"
      },
      "source": [
        "dy_dx = tape.gradient(y, x)\n",
        "dy_dx.numpy()"
      ],
      "execution_count": null,
      "outputs": [
        {
          "output_type": "execute_result",
          "data": {
            "text/plain": [
              "6.0"
            ]
          },
          "metadata": {
            "tags": []
          },
          "execution_count": 20
        }
      ]
    },
    {
      "cell_type": "markdown",
      "metadata": {
        "id": "jf7zmqfYy-uA"
      },
      "source": [
        "# GO: #"
      ]
    },
    {
      "cell_type": "code",
      "metadata": {
        "colab": {
          "base_uri": "https://localhost:8080/"
        },
        "id": "wfaBylnFGE8i",
        "outputId": "4548218a-7a14-4c99-b8b0-9021ab45c524"
      },
      "source": [
        "\n",
        "# Training loop\n",
        "loss_vec = []\n",
        "test_loss = []\n",
        "for i in range(500):\n",
        "    rand_index = np.random.choice(len(x_vals_train), size=batch_size)\n",
        "    rand_x = x_vals_train[rand_index]\n",
        "    rand_y = np.transpose([y_vals_train[rand_index]])\n",
        "    \n",
        "    # Open a GradientTape.\n",
        "    with tf.GradientTape(persistent=True) as tape:\n",
        "   \n",
        "        # Forward pass.\n",
        "        output = model(rand_x)\n",
        "        \n",
        "        # Apply loss function (MSE)\n",
        "        loss = tf.reduce_mean(tf.square(rand_y - output))\n",
        "        loss_vec.append(np.sqrt(loss))       \n",
        "        \n",
        "    # Get gradients of loss with reference to the variables \"a1\", \"b1\", \"a2\" and \"b2\" to adjust.\n",
        "    gradients_a1 = tape.gradient(loss, a1)\n",
        "    gradients_b1 = tape.gradient(loss, b1)\n",
        "    gradients_a2 = tape.gradient(loss, a2)\n",
        "    gradients_b2 = tape.gradient(loss, b2)\n",
        "    \n",
        "    # Update the variables \"a1\", \"b1\", \"a2\" and \"b2\" of the model.\n",
        "    optimizer.apply_gradients(zip([gradients_a1, gradients_b1, gradients_a2, gradients_b2], [a1, b1, a2, b2]))\n",
        "    \n",
        "    # Forward pass.\n",
        "    output_test = model(x_vals_test)\n",
        "    # Apply loss function (MSE) on test\n",
        "    loss_test = tf.reduce_mean(tf.square(np.transpose([y_vals_test]) - output_test))\n",
        "    test_loss.append(np.sqrt(loss_test))\n",
        "    \n",
        "    if (i+1)%50==0:\n",
        "        print('Generation: ' + str(i+1) + '. Loss = ' + str(np.mean(loss)))"
      ],
      "execution_count": null,
      "outputs": [
        {
          "output_type": "stream",
          "text": [
            "Generation: 50. Loss = 0.6273957\n",
            "Generation: 100. Loss = 0.15347697\n",
            "Generation: 150. Loss = 0.15431023\n",
            "Generation: 200. Loss = 0.11715932\n",
            "Generation: 250. Loss = 0.12236561\n",
            "Generation: 300. Loss = 0.121347554\n",
            "Generation: 350. Loss = 0.07258755\n",
            "Generation: 400. Loss = 0.14590771\n",
            "Generation: 450. Loss = 0.14075772\n",
            "Generation: 500. Loss = 0.13127384\n"
          ],
          "name": "stdout"
        }
      ]
    },
    {
      "cell_type": "code",
      "metadata": {
        "colab": {
          "base_uri": "https://localhost:8080/",
          "height": 295
        },
        "id": "z2ts2W8HGGEk",
        "outputId": "3a90e075-f8a9-46ab-8135-4507a71e3756"
      },
      "source": [
        "%matplotlib inline\n",
        "# Plot loss (MSE) over time\n",
        "plt.ylim([0, 1.0])\n",
        "plt.plot(loss_vec, 'k-', label='Train Loss')\n",
        "plt.plot(test_loss, 'r--', label='Test Loss')\n",
        "plt.title('Loss (MSE) per Generation')\n",
        "plt.legend(loc='upper right')\n",
        "plt.xlabel('Generation')\n",
        "plt.ylabel('Loss')\n",
        "plt.show()"
      ],
      "execution_count": null,
      "outputs": [
        {
          "output_type": "display_data",
          "data": {
            "image/png": "[encoded data removed]",
            "text/plain": [
              "<Figure size 432x288 with 1 Axes>"
            ]
          },
          "metadata": {
            "tags": [],
            "needs_background": "light"
          }
        }
      ]
    }
  ]
}